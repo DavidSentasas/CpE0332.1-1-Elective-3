{
  "nbformat": 4,
  "nbformat_minor": 0,
  "metadata": {
    "colab": {
      "provenance": [],
      "authorship_tag": "ABX9TyMZwvB3Nf0L3Al7Ur4IK5zA",
      "include_colab_link": true
    },
    "kernelspec": {
      "name": "python3",
      "display_name": "Python 3"
    },
    "language_info": {
      "name": "python"
    }
  },
  "cells": [
    {
      "cell_type": "markdown",
      "metadata": {
        "id": "view-in-github",
        "colab_type": "text"
      },
      "source": [
        "<a href=\"https://colab.research.google.com/github/DavidSentasas/CpE0332.1-1-Elective-3/blob/main/Python_Fundamentals.ipynb\" target=\"_parent\"><img src=\"https://colab.research.google.com/assets/colab-badge.svg\" alt=\"Open In Colab\"/></a>"
      ]
    },
    {
      "cell_type": "markdown",
      "source": [
        "Python Indentation"
      ],
      "metadata": {
        "id": "IiHxZ1Yvi3hz"
      }
    },
    {
      "cell_type": "code",
      "source": [
        "x = 3\n",
        "y = 2\n",
        "if x > y:\n",
        "  print(\"Five is greater than two.\")"
      ],
      "metadata": {
        "colab": {
          "base_uri": "https://localhost:8080/"
        },
        "id": "RP_kMm47i977",
        "outputId": "e4c4b3d3-7134-4ee3-bc38-df058960d806"
      },
      "execution_count": 29,
      "outputs": [
        {
          "output_type": "stream",
          "name": "stdout",
          "text": [
            "Five is greater than two.\n"
          ]
        }
      ]
    },
    {
      "cell_type": "markdown",
      "source": [
        "Python Comments"
      ],
      "metadata": {
        "id": "Ze5wF1wLkXRM"
      }
    },
    {
      "cell_type": "code",
      "source": [
        "print(\"Hello World\") #This is a Python comment"
      ],
      "metadata": {
        "id": "_Ny3A9gkkdrN"
      },
      "execution_count": null,
      "outputs": []
    },
    {
      "cell_type": "markdown",
      "source": [
        "Python Variable"
      ],
      "metadata": {
        "id": "jihLk-IKkpvm"
      }
    },
    {
      "cell_type": "code",
      "source": [
        "z = 1\n",
        "z,s = 0,-1\n",
        "z,s,t=8,9,10\n",
        "print(z)\n",
        "print(s)\n",
        "print(t)"
      ],
      "metadata": {
        "colab": {
          "base_uri": "https://localhost:8080/"
        },
        "id": "Io9uaLmEkr7N",
        "outputId": "10603379-36e0-4ff7-c07c-baa0243c995c"
      },
      "execution_count": 10,
      "outputs": [
        {
          "output_type": "stream",
          "name": "stdout",
          "text": [
            "8\n",
            "9\n",
            "10\n"
          ]
        }
      ]
    },
    {
      "cell_type": "markdown",
      "source": [
        "Casting"
      ],
      "metadata": {
        "id": "CzwUhyavl5uM"
      }
    },
    {
      "cell_type": "code",
      "source": [
        "b = \"Sally\" #This is a string\n",
        "b = int(4)\n",
        "print(b)\n",
        "b = float(4)\n",
        "print(b)"
      ],
      "metadata": {
        "colab": {
          "base_uri": "https://localhost:8080/"
        },
        "id": "bG8nsShMl6tG",
        "outputId": "f101dd2e-fa33-44e6-abc9-b369d66994df"
      },
      "execution_count": 13,
      "outputs": [
        {
          "output_type": "stream",
          "name": "stdout",
          "text": [
            "4\n",
            "4.0\n"
          ]
        }
      ]
    },
    {
      "cell_type": "markdown",
      "source": [
        "Type() function"
      ],
      "metadata": {
        "id": "dHgL0VN3mgx0"
      }
    },
    {
      "cell_type": "code",
      "source": [
        "print(type(b))"
      ],
      "metadata": {
        "colab": {
          "base_uri": "https://localhost:8080/"
        },
        "id": "usruELsdmjS6",
        "outputId": "41964641-f3a8-4e3a-a6f1-579df7e97235"
      },
      "execution_count": 14,
      "outputs": [
        {
          "output_type": "stream",
          "name": "stdout",
          "text": [
            "<class 'float'>\n"
          ]
        }
      ]
    },
    {
      "cell_type": "markdown",
      "source": [
        "Double Quotes and Single Quotes"
      ],
      "metadata": {
        "id": "DNJxXYLvnFIX"
      }
    },
    {
      "cell_type": "code",
      "source": [
        "w = \"Ana\"\n",
        "print(w)\n",
        "q = 'Ana'\n",
        "print(q)"
      ],
      "metadata": {
        "colab": {
          "base_uri": "https://localhost:8080/"
        },
        "id": "mrSLVm8FnHLc",
        "outputId": "a8f0d376-f8a4-4dde-d136-df723bbe1444"
      },
      "execution_count": 16,
      "outputs": [
        {
          "output_type": "stream",
          "name": "stdout",
          "text": [
            "Ana\n",
            "Ana\n"
          ]
        }
      ]
    },
    {
      "cell_type": "markdown",
      "source": [
        "Case Sensitivity"
      ],
      "metadata": {
        "id": "QgEiKP2InX0v"
      }
    },
    {
      "cell_type": "code",
      "source": [
        "a = int(4)\n",
        "A = 'Sally'\n",
        "print(a)\n",
        "print(A)"
      ],
      "metadata": {
        "colab": {
          "base_uri": "https://localhost:8080/"
        },
        "id": "tcgFo-EYnbbk",
        "outputId": "0539e355-b381-4672-f78c-7a7bd50938f3"
      },
      "execution_count": 17,
      "outputs": [
        {
          "output_type": "stream",
          "name": "stdout",
          "text": [
            "4\n",
            "Sally\n"
          ]
        }
      ]
    },
    {
      "cell_type": "markdown",
      "source": [
        "Multiple Variables"
      ],
      "metadata": {
        "id": "tK0EKqeOn2KG"
      }
    },
    {
      "cell_type": "code",
      "source": [
        "h,i,j = \"one\", \"two\", \"three\"\n",
        "print(h)\n",
        "print(i)\n",
        "print(j)"
      ],
      "metadata": {
        "colab": {
          "base_uri": "https://localhost:8080/"
        },
        "id": "g11NDwImn3xt",
        "outputId": "727ee1f5-3be7-43b8-ae9b-1c9af85bbad3"
      },
      "execution_count": 23,
      "outputs": [
        {
          "output_type": "stream",
          "name": "stdout",
          "text": [
            "one\n",
            "two\n",
            "three\n"
          ]
        }
      ]
    },
    {
      "cell_type": "markdown",
      "source": [
        "Multiple Variables with Single Value"
      ],
      "metadata": {
        "id": "cLMetHanqNlF"
      }
    },
    {
      "cell_type": "code",
      "source": [
        "k = l = m = \"four\"\n",
        "print(k)\n",
        "print(l)\n",
        "print(m)"
      ],
      "metadata": {
        "colab": {
          "base_uri": "https://localhost:8080/"
        },
        "id": "gEI-6r6cqOA9",
        "outputId": "8fe1ed04-54c5-4bb8-8780-f8b29c83a2da"
      },
      "execution_count": 22,
      "outputs": [
        {
          "output_type": "stream",
          "name": "stdout",
          "text": [
            "four\n",
            "four\n",
            "four\n"
          ]
        }
      ]
    },
    {
      "cell_type": "markdown",
      "source": [
        "Output Variable and Concatenation"
      ],
      "metadata": {
        "id": "oU9RuLBAqdUG"
      }
    },
    {
      "cell_type": "code",
      "source": [
        "n = \"enjoying\"\n",
        "p = \"Python programming is \"\n",
        "print(p + n)"
      ],
      "metadata": {
        "colab": {
          "base_uri": "https://localhost:8080/"
        },
        "id": "uKVF_Js6qlJg",
        "outputId": "bfd4d3fd-a85e-4d86-ebc4-b9988883c795"
      },
      "execution_count": 27,
      "outputs": [
        {
          "output_type": "stream",
          "name": "stdout",
          "text": [
            "Python programming is enjoying\n"
          ]
        }
      ]
    },
    {
      "cell_type": "markdown",
      "source": [
        "Arithmetic Operations"
      ],
      "metadata": {
        "id": "4XOsHtUWvMDa"
      }
    },
    {
      "cell_type": "code",
      "source": [
        "print(x+y) #Addition\n",
        "print(x-y) #Subraction\n",
        "print(x*y) #Multiplication\n",
        "print(x/y) #Division\n",
        "print(x**y) #Exponentiation\n",
        "print(x//y) #Floor Division\n",
        "print(x%y) #Modulus"
      ],
      "metadata": {
        "colab": {
          "base_uri": "https://localhost:8080/"
        },
        "id": "dHdaP8PRvQPr",
        "outputId": "05a0b9f8-12ce-4997-b1f0-db139d22207a"
      },
      "execution_count": 32,
      "outputs": [
        {
          "output_type": "stream",
          "name": "stdout",
          "text": [
            "5\n",
            "1\n",
            "6\n",
            "1.5\n",
            "9\n",
            "1\n",
            "1\n"
          ]
        }
      ]
    },
    {
      "cell_type": "markdown",
      "source": [
        "Assignment Operator"
      ],
      "metadata": {
        "id": "UBVszJJbw2i6"
      }
    },
    {
      "cell_type": "code",
      "source": [
        "x+=3 #same as x = x+3\n",
        "print(x)"
      ],
      "metadata": {
        "colab": {
          "base_uri": "https://localhost:8080/"
        },
        "id": "17giBLdcw4oy",
        "outputId": "2bc83a34-2fcd-4adc-cc2d-8c6c73f54e6a"
      },
      "execution_count": 33,
      "outputs": [
        {
          "output_type": "stream",
          "name": "stdout",
          "text": [
            "6\n"
          ]
        }
      ]
    },
    {
      "cell_type": "markdown",
      "source": [
        "Comparison Operator"
      ],
      "metadata": {
        "id": "yUChkF4UxT5J"
      }
    },
    {
      "cell_type": "code",
      "source": [
        "print(x==y)\n",
        "print(x!=y)\n",
        "print(x>y)\n",
        "print(x<y)"
      ],
      "metadata": {
        "colab": {
          "base_uri": "https://localhost:8080/"
        },
        "id": "0ZFv_UoYxWSq",
        "outputId": "31ef4684-6688-4784-dd89-e5fef18fd1e7"
      },
      "execution_count": 35,
      "outputs": [
        {
          "output_type": "stream",
          "name": "stdout",
          "text": [
            "False\n",
            "True\n",
            "True\n",
            "False\n"
          ]
        }
      ]
    },
    {
      "cell_type": "markdown",
      "source": [
        "Logical Operator"
      ],
      "metadata": {
        "id": "vRkP2_OYyQUS"
      }
    },
    {
      "cell_type": "code",
      "source": [
        "print(x==y and x!=y) #False and True\n",
        "print(x==y or x!=y) #False or True\n",
        "print(not(x==y or x!=y)) #Negate(False or True)"
      ],
      "metadata": {
        "colab": {
          "base_uri": "https://localhost:8080/"
        },
        "id": "dDaMDhDGyRvr",
        "outputId": "ac96482e-2e5c-4dea-94b9-1b611ae63613"
      },
      "execution_count": 37,
      "outputs": [
        {
          "output_type": "stream",
          "name": "stdout",
          "text": [
            "False\n",
            "True\n",
            "False\n"
          ]
        }
      ]
    },
    {
      "cell_type": "markdown",
      "source": [
        "Identity Operators"
      ],
      "metadata": {
        "id": "l_YINkw-zEgk"
      }
    },
    {
      "cell_type": "code",
      "source": [
        "print (x is y) #x=3, y=2\n",
        "print (x is not y)"
      ],
      "metadata": {
        "colab": {
          "base_uri": "https://localhost:8080/"
        },
        "id": "KL3_ejIKzHyM",
        "outputId": "d78d3432-684c-43ac-c228-0458f4a6ad46"
      },
      "execution_count": 41,
      "outputs": [
        {
          "output_type": "stream",
          "name": "stdout",
          "text": [
            "False\n",
            "True\n"
          ]
        }
      ]
    },
    {
      "cell_type": "markdown",
      "source": [
        "Bitwise Operator"
      ],
      "metadata": {
        "id": "gKnAiOdAzObk"
      }
    },
    {
      "cell_type": "code",
      "source": [
        "# 10 + 1 = 11 ; 1010 + 0001 = 1011\n",
        "print(10|1)\n",
        "print(x>>1)"
      ],
      "metadata": {
        "colab": {
          "base_uri": "https://localhost:8080/"
        },
        "id": "aPd30jDszUYL",
        "outputId": "00bc9a2b-00f7-4c42-ab1b-de01cfa6d9be"
      },
      "execution_count": 43,
      "outputs": [
        {
          "output_type": "stream",
          "name": "stdout",
          "text": [
            "11\n",
            "3\n"
          ]
        }
      ]
    },
    {
      "cell_type": "markdown",
      "source": [
        "Create a Python Program that displays your full name, age, and course and section"
      ],
      "metadata": {
        "id": "phPZlBXT09Yb"
      }
    },
    {
      "cell_type": "code",
      "source": [
        "first_name = \"David Bryan \"\n",
        "middle_initial = \"L. \"\n",
        "last_name = \"Sentasas\"\n",
        "_age = 19 #Applying legal variable naming scheme\n",
        "_age = int(20) # Applying casting\n",
        "course_and_section = \"CPE 0332.1-1 - Elective 3 (Lab)\"\n",
        "print (first_name + middle_initial + last_name) #Applying string concatenation\n",
        "print (\"I am\", _age, \"years old.\") #Applying printing variables and text\n",
        "print (course_and_section)"
      ],
      "metadata": {
        "colab": {
          "base_uri": "https://localhost:8080/"
        },
        "id": "BpYKvQvt1SG7",
        "outputId": "f4b65c81-ed85-4ae3-fe4e-b57ea43f4acf"
      },
      "execution_count": 53,
      "outputs": [
        {
          "output_type": "stream",
          "name": "stdout",
          "text": [
            "David Bryan L. Sentasas\n",
            "I am 20 years old.\n",
            "CPE 0332.1-1 - Elective 3 (Lab)\n"
          ]
        }
      ]
    }
  ]
}