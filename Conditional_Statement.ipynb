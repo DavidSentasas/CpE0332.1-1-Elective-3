{
  "nbformat": 4,
  "nbformat_minor": 0,
  "metadata": {
    "colab": {
      "provenance": [],
      "authorship_tag": "ABX9TyN1Ovc6h67Nu3Yp/Cqvxja8",
      "include_colab_link": true
    },
    "kernelspec": {
      "name": "python3",
      "display_name": "Python 3"
    },
    "language_info": {
      "name": "python"
    }
  },
  "cells": [
    {
      "cell_type": "markdown",
      "metadata": {
        "id": "view-in-github",
        "colab_type": "text"
      },
      "source": [
        "<a href=\"https://colab.research.google.com/github/DavidSentasas/CpE0332.1-1-Elective-3/blob/main/Conditional_Statement.ipynb\" target=\"_parent\"><img src=\"https://colab.research.google.com/assets/colab-badge.svg\" alt=\"Open In Colab\"/></a>"
      ]
    },
    {
      "cell_type": "markdown",
      "source": [
        "If Statement"
      ],
      "metadata": {
        "id": "9pfFf2A0CRfg"
      }
    },
    {
      "cell_type": "code",
      "source": [
        "a = 12\n",
        "b = 100\n",
        "\n",
        "if a<b:\n",
        "  print('a is less than b')"
      ],
      "metadata": {
        "colab": {
          "base_uri": "https://localhost:8080/"
        },
        "id": "K5zTXU7QCUVf",
        "outputId": "ff546b5c-5417-45e3-ac4e-7c7e6d2b49d8"
      },
      "execution_count": 1,
      "outputs": [
        {
          "output_type": "stream",
          "name": "stdout",
          "text": [
            "a is less than b\n"
          ]
        }
      ]
    },
    {
      "cell_type": "markdown",
      "source": [
        "Elif Statement"
      ],
      "metadata": {
        "id": "i_yab83eCp7x"
      }
    },
    {
      "cell_type": "code",
      "source": [
        "print(\"Enter your age:\")\n",
        "age = int(input())\n",
        "if age >= 18:\n",
        "  print('You are qualified to get a license!')\n",
        "elif age < 18:\n",
        "  print('You are qualified to get a license.')"
      ],
      "metadata": {
        "colab": {
          "base_uri": "https://localhost:8080/"
        },
        "id": "SuzFuNvYCry_",
        "outputId": "56d07629-623e-48e0-afe6-5fda0647d27d"
      },
      "execution_count": 5,
      "outputs": [
        {
          "output_type": "stream",
          "name": "stdout",
          "text": [
            "Enter your age:\n",
            "18\n",
            "You are qualified to get a license!\n"
          ]
        }
      ]
    },
    {
      "cell_type": "markdown",
      "source": [
        "Else Statement"
      ],
      "metadata": {
        "id": "nYTe3A4wEdkh"
      }
    },
    {
      "cell_type": "code",
      "source": [
        "print(\"Enter an integer: \")\n",
        "x = int(input())\n",
        "if x>0:\n",
        "  print(\"x is a positive number\")\n",
        "elif x<0:\n",
        "  print(\"x is a negative number\")\n",
        "else:\n",
        "  print(\"x is zero\")"
      ],
      "metadata": {
        "colab": {
          "base_uri": "https://localhost:8080/"
        },
        "id": "Aqql8j7AEexw",
        "outputId": "742bc0a9-b2e3-4d66-9b6c-7c93bffc17db"
      },
      "execution_count": 8,
      "outputs": [
        {
          "output_type": "stream",
          "name": "stdout",
          "text": [
            "Enter an integer: \n",
            "-1000\n",
            "x is a negative number\n"
          ]
        }
      ]
    },
    {
      "cell_type": "markdown",
      "source": [
        "Short Hand If Statement"
      ],
      "metadata": {
        "id": "DkuYjvXeFfGg"
      }
    },
    {
      "cell_type": "code",
      "source": [
        "if a<b: print(\"a is less than b\")"
      ],
      "metadata": {
        "colab": {
          "base_uri": "https://localhost:8080/"
        },
        "id": "AHva9KbrFhUw",
        "outputId": "9573cdcc-7315-465e-f673-78761b616d46"
      },
      "execution_count": 10,
      "outputs": [
        {
          "output_type": "stream",
          "name": "stdout",
          "text": [
            "a is less than b\n"
          ]
        }
      ]
    },
    {
      "cell_type": "markdown",
      "source": [
        "Short Hand If...Else Statement"
      ],
      "metadata": {
        "id": "JJGPYbsBF_r-"
      }
    },
    {
      "cell_type": "code",
      "source": [
        "print(\"a is greater than b\") if a>b else print(\"b is greater than a\")"
      ],
      "metadata": {
        "colab": {
          "base_uri": "https://localhost:8080/"
        },
        "id": "hXN1dfqLGEPG",
        "outputId": "87f6c41e-50ed-46ca-8c09-05ae0ad73928"
      },
      "execution_count": 11,
      "outputs": [
        {
          "output_type": "stream",
          "name": "stdout",
          "text": [
            "b is greater than a\n"
          ]
        }
      ]
    },
    {
      "cell_type": "markdown",
      "source": [
        "And Statement"
      ],
      "metadata": {
        "id": "6BSQh9W6GfTu"
      }
    },
    {
      "cell_type": "code",
      "source": [
        "c = 500\n",
        "if a < b and c > a:\n",
        "  print(\"Both statements are true\")"
      ],
      "metadata": {
        "colab": {
          "base_uri": "https://localhost:8080/"
        },
        "id": "8_YUyWzcGiZO",
        "outputId": "0a3a27d8-25a2-49ea-b9c4-8d1636bce0b5"
      },
      "execution_count": 15,
      "outputs": [
        {
          "output_type": "stream",
          "name": "stdout",
          "text": [
            "Both statements are true\n"
          ]
        }
      ]
    },
    {
      "cell_type": "markdown",
      "source": [
        "Or Statement"
      ],
      "metadata": {
        "id": "zjwXx4CQGhR3"
      }
    },
    {
      "cell_type": "code",
      "source": [
        "c = 500\n",
        "if a < b or c > a:\n",
        "  print(\"Both statements are true\")"
      ],
      "metadata": {
        "colab": {
          "base_uri": "https://localhost:8080/"
        },
        "id": "Voks6mmkGkkN",
        "outputId": "0971b0d1-ad8f-4bcf-cddc-0e0c4a48127a"
      },
      "execution_count": 14,
      "outputs": [
        {
          "output_type": "stream",
          "name": "stdout",
          "text": [
            "Both statements are true\n"
          ]
        }
      ]
    },
    {
      "cell_type": "markdown",
      "source": [
        "Nested If Statement"
      ],
      "metadata": {
        "id": "7Mbf5HXeHtff"
      }
    },
    {
      "cell_type": "code",
      "source": [
        "x = int(input())\n",
        "if x>10:\n",
        "  print(\"above 10\")\n",
        "  if x>20:\n",
        "    print(\"above 20\")\n",
        "    if x>30:\n",
        "      print(\"above 30\")\n",
        "      if x>40:\n",
        "        print(\"above 40\")\n",
        "        if x>50:\n",
        "          print(\"above 50\")\n",
        "        else:\n",
        "          print(\"not above 50\")\n",
        "      else:\n",
        "        print(\"not above 40\")\n",
        "    else:\n",
        "      print(\"not above 30\")\n",
        "  else:\n",
        "    print(\"not above 20\")\n",
        "else:\n",
        "  print(\"not above 10\")"
      ],
      "metadata": {
        "colab": {
          "base_uri": "https://localhost:8080/"
        },
        "id": "bpKI4ts6Hu_s",
        "outputId": "f3d7a5c6-1365-4620-cfd5-392e5cf677b6"
      },
      "execution_count": 21,
      "outputs": [
        {
          "output_type": "stream",
          "name": "stdout",
          "text": [
            "23\n",
            "above 10\n",
            "above 20\n",
            "not above 30\n"
          ]
        }
      ]
    },
    {
      "cell_type": "markdown",
      "source": [
        "APPLICATION 2:\n",
        "Write a program to determine if the grades are:\n",
        "\n",
        "  If:\n",
        "  grade > = 75 , “Passed”\n",
        "  grade = 74, “Remedial”\n",
        "  grade < 74, “Failed”\n",
        "  note: if grade is a negative number, it will not accepted"
      ],
      "metadata": {
        "id": "53tW65gxLjTZ"
      }
    },
    {
      "cell_type": "code",
      "source": [
        "grade = int(input())\n",
        "if grade > 0:\n",
        "  if grade >= 75:\n",
        "    print(\"Passed\")\n",
        "  elif grade == 74:\n",
        "    print(\"Remedial\")\n",
        "  else:\n",
        "    print(\"Failed\")\n",
        "else:\n",
        "  print(\"This is not an accepted number!\")"
      ],
      "metadata": {
        "colab": {
          "base_uri": "https://localhost:8080/"
        },
        "id": "iHqR7iY8MEaR",
        "outputId": "ee0b4eff-9de7-4ea4-d775-220a9d2fee8c"
      },
      "execution_count": 28,
      "outputs": [
        {
          "output_type": "stream",
          "name": "stdout",
          "text": [
            "73\n",
            "Failed\n"
          ]
        }
      ]
    }
  ]
}